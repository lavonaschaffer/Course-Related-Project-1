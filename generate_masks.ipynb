{
 "cells": [
  {
   "cell_type": "code",
   "execution_count": 1,
   "metadata": {},
   "outputs": [],
   "source": [
    "import json\n",
    "from pathlib import Path\n",
    "\n",
    "import cv2\n",
    "import numpy as np\n",
    "import tifffile\n",
    "from tqdm import tqdm"
   ]
  },
  {
   "cell_type": "code",
   "execution_count": 2,
   "metadata": {},
   "outputs": [],
   "source": [
    "data_dir = Path(\"./data\")"
   ]
  },
  {
   "cell_type": "code",
   "execution_count": null,
   "metadata": {},
   "outputs": [
    {
     "name": "stderr",
     "output_type": "stream",
     "text": [
      "100%|██████████| 176/176 [00:00<00:00, 57975.14it/s]\n"
     ]
    }
   ],
   "source": [
    "# Generate list of training image filenames\n",
    "train_file_names = [f\"train_{i}.tif\" for i in range(176)]  \n",
    "class_names = [\"grassland_shrubland\", \"logging\", \"mining\", \"plantation\"]\n",
    "\n",
    "# Load raw annotation JSON\n",
    "with open(data_dir / \"train_annotations.json\", \"r\") as f:\n",
    "    raw_annotations = json.load(f)\n",
    "\n",
    "# Map each filename to its class-wise polygon annotations\n",
    "annotations: dict[str, dict[str, list[list[float]]]] = {}\n",
    "for fn in tqdm(train_file_names):\n",
    "    ann = {class_name: [] for class_name in class_names}\n",
    "\n",
    "    for img in raw_annotations[\"images\"]:\n",
    "        if img[\"file_name\"] == fn:\n",
    "            for a in img[\"annotations\"]:\n",
    "                ann[a[\"class\"]].append(a[\"segmentation\"])\n",
    "\n",
    "    annotations[fn] = ann\n"
   ]
  },
  {
   "cell_type": "code",
   "execution_count": null,
   "metadata": {},
   "outputs": [
    {
     "name": "stderr",
     "output_type": "stream",
     "text": [
      "100%|██████████| 176/176 [00:01<00:00, 167.80it/s]\n"
     ]
    }
   ],
   "source": [
    "# Create directory to save masks\n",
    "mask_save_dir = data_dir / \"train_masks\"\n",
    "mask_save_dir.mkdir(parents=True, exist_ok=True)\n",
    "\n",
    "# Generate and save multi-channel masks\n",
    "for fn in tqdm(train_file_names):\n",
    "    mask = np.zeros((4, 1024, 1024), dtype=np.uint8)\n",
    "    anns = annotations[fn]\n",
    "    for class_idx, class_name in enumerate(class_names):\n",
    "        polygons = anns[class_name]\n",
    "        for poly in polygons:\n",
    "            pts = np.array(poly, dtype=np.int32).reshape(-1, 2)\n",
    "            cv2.fillPoly(mask[class_idx], [pts], 255)\n",
    "\n",
    "    np.save(mask_save_dir / fn.replace(\".tif\", \".npy\"), mask)\n"
   ]
  },
  {
   "cell_type": "code",
   "execution_count": null,
   "metadata": {},
   "outputs": [
    {
     "name": "stderr",
     "output_type": "stream",
     "text": [
      "100%|██████████| 176/176 [00:56<00:00,  3.09it/s]\n"
     ]
    }
   ],
   "source": [
    "# Save RGB image and class masks as a side-by-side PNG visualization\n",
    "vis_save_dir = data_dir / \"vis_train\"\n",
    "vis_save_dir.mkdir(parents=True, exist_ok=True)\n",
    "\n",
    "for fn in tqdm(train_file_names):\n",
    "    mask = np.load(mask_save_dir / fn.replace(\".tif\", \".npy\"))  # (4, 1024, 1024)\n",
    "    vis_masks = [np.zeros((1024, 1024, 3), dtype=np.uint8) for _ in range(4)]\n",
    "\n",
    "    for class_idx, class_name in enumerate(class_names):\n",
    "        vis_masks[class_idx][mask[class_idx] > 0] = [255, 0, 0]\n",
    "        cv2.putText(vis_masks[class_idx], class_name, (10, 30), cv2.FONT_HERSHEY_SIMPLEX, 1, (255, 255, 255), 2)\n",
    "\n",
    "    vis_image = tifffile.imread(data_dir / \"train_images\" / fn)\n",
    "    vis_image = vis_image[:, :, [1, 2, 3]]  # Select bands B2, B3, B4\n",
    "    vis_image = np.nan_to_num(vis_image, nan=0)\n",
    "    vis_image = (vis_image / 8).clip(0, 255).astype(np.uint8)\n",
    "\n",
    "    partition = np.ones((1024, 5, 3), dtype=np.uint8) * 255  # white spacer\n",
    "    vis = np.concatenate([vis_image] + [partition, vis_masks[0], partition, vis_masks[1], partition, vis_masks[2], partition, vis_masks[3]], axis=1)\n",
    "\n",
    "    cv2.imwrite(vis_save_dir / fn.replace(\".tif\", \".png\"), vis)\n"
   ]
  }
 ],
 "metadata": {
  "kernelspec": {
   "display_name": "Python 3",
   "language": "python",
   "name": "python3"
  },
  "language_info": {
   "codemirror_mode": {
    "name": "ipython",
    "version": 3
   },
   "file_extension": ".py",
   "mimetype": "text/x-python",
   "name": "python",
   "nbconvert_exporter": "python",
   "pygments_lexer": "ipython3",
   "version": "3.10.12"
  }
 },
 "nbformat": 4,
 "nbformat_minor": 2
}
